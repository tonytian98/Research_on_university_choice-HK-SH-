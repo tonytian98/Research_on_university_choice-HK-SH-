{
 "cells": [
  {
   "cell_type": "code",
   "execution_count": null,
   "metadata": {},
   "outputs": [],
   "source": [
    "import math\n",
    "import pandas as pd\n",
    "import numpy as np\n",
    "import matplotlib.pyplot as plt\n",
    "from scipy import stats\n",
    "\n",
    "import statsmodels.api as sm\n",
    "from statsmodels.regression.linear_model import OLS\n",
    "\n",
    "from sklearn.model_selection import train_test_split\n",
    "from sklearn.linear_model import LogisticRegression"
   ]
  },
  {
   "cell_type": "code",
   "execution_count": null,
   "metadata": {},
   "outputs": [],
   "source": [
    "###get data and define independent variables and dependent varible\n",
    "data = pd.read_excel(\"data_set.xlsx\") \n",
    "regressor=[\"Gender\",\"DISRATIO\",\"LNINCOME\",'EXPENSE',\"Cantonese\",\"BeentoHK\",\"SCHOLAR\",\"below2\",\"Gaokao\",\"SIBLINGS\"]\n",
    "predict=\"School\"\n",
    "\n",
    "sample_size=234\n",
    "SH_HK_Split=136\n",
    "#get selected variables to numpy\n",
    "tot_var=regressor.copy()\n",
    "tot_var.append(predict)\n",
    "datac=data[tot_var][0:sample_size]\n",
    "\n",
    "X=np.array(datac.drop([predict],1))\n",
    "Y=np.array(datac[predict])\n",
    "\n",
    "regressor.insert(0,'Constant')"
   ]
  },
  {
   "cell_type": "code",
   "execution_count": null,
   "metadata": {},
   "outputs": [],
   "source": [
    "###delete rows with NaN values\n",
    "def Delete (X,Y,NaN):\n",
    "    CX=np.copy(X)\n",
    "    i=-1\n",
    "    for x in CX:\n",
    "        i +=1 \n",
    "        for y in x:\n",
    "            if y==NaN:\n",
    "                X=np.delete(X,i,0)\n",
    "                Y=np.delete(Y,i,0)\n",
    "                i = i-1\n",
    "                break\n",
    "    CY=np.copy(Y)\n",
    "    j= -1\n",
    "    for y in CY:\n",
    "        j=j+1\n",
    "        if y==NaN:\n",
    "            X=np.delete(X,j,0)\n",
    "            Y=np.delete(Y,j,0)\n",
    "            j = j-1\n",
    "    \n",
    "    return X,Y\n",
    "#NaN in my data_set is -3\n",
    "X,Y=Delete(X,Y,-3)"
   ]
  },
  {
   "cell_type": "code",
   "execution_count": null,
   "metadata": {},
   "outputs": [],
   "source": [
    "###Preprocessing\n",
    "#Get variance inflation factor of independent variables to see their correlation\n",
    "def variance_inflation_factor(exog, exog_idx):\n",
    "    k_vars = exog.shape[1]\n",
    "    x_i = exog[:, exog_idx]\n",
    "    mask = np.arange(k_vars) != exog_idx\n",
    "    x_noti = exog[:, mask]\n",
    "    r_squared_i = OLS(x_i, x_noti).fit().rsquared\n",
    "    vif = 1. / (1. - r_squared_i)\n",
    "    return vif\n",
    "XC = sm.add_constant(X)\n",
    "\n",
    "print(pd.Series([variance_inflation_factor(XC, i) \n",
    "                for i in range(XC.shape[1])], \n",
    "              index=regressor))\n",
    "\n",
    "\n",
    "###Get Skewness\n",
    "def Skew(var):\n",
    "    print('Skeness of {}'.format(pd.DataFrame.skew(data[[var]][0:sample_size])))\n",
    "Skew('INCOME')\n",
    "Skew('LNINCOME')\n",
    "Skew('DISRATIO')"
   ]
  },
  {
   "cell_type": "code",
   "execution_count": null,
   "metadata": {},
   "outputs": [],
   "source": [
    "###Logistic regression\n",
    "def LogReg(X,Y):\n",
    "    logit_model=sm.Logit(Y,X)\n",
    "    mfit=logit_model.fit()\n",
    "    result=logit_model.fit()\n",
    "\n",
    "\n",
    "    ###Convert result to Odds Ratio\n",
    "    odds=np.exp(result.params)\n",
    "\n",
    "    ###Get std for Odds Ratio\n",
    "    cov = mfit.cov_params()\n",
    "    coefvar = np.diag(cov)\n",
    "    sd=np.sqrt(coefvar*odds*odds)\n",
    "\n",
    "    ###Get Odds Ratio confidence_interval\n",
    "    conf = np.exp(result.conf_int())\n",
    "    lst2=conf[:,0]\n",
    "    lst3=conf[:,1]\n",
    "\n",
    "    ### construct result as dataframe to visualize\n",
    "    df = pd.DataFrame(list(zip(odds, sd,lst2,lst3)), \n",
    "                      columns =['Odds Ratio','   Standard Error', '[0.25  ','0.75]'],\n",
    "                      index=regressor)\n",
    "    print(result.summary2())\n",
    "    print(df)\n",
    "    return result\n",
    "\n"
   ]
  },
  {
   "cell_type": "code",
   "execution_count": null,
   "metadata": {},
   "outputs": [],
   "source": [
    "###main regression\n",
    "print('\\nMain Reg:\\n')\n",
    "result=LogReg(XC,Y)\n",
    "\n",
    "###Drop Low Gaokao Score Partcipants\n",
    "XNEW=X[X[:,8]<=2]\n",
    "YNEW=Y[X[:,8]<=2]\n",
    "XCNEW = sm.add_constant(XNEW)\n",
    "\n",
    "print('\\nLow Gaokao Score Partcipants Dropped:\\n')\n",
    "LogReg(XCNEW,YNEW)"
   ]
  },
  {
   "cell_type": "code",
   "execution_count": null,
   "metadata": {},
   "outputs": [],
   "source": []
  },
  {
   "cell_type": "code",
   "execution_count": null,
   "metadata": {},
   "outputs": [],
   "source": []
  }
 ],
 "metadata": {
  "kernelspec": {
   "display_name": "Python 3",
   "language": "python",
   "name": "python3"
  },
  "language_info": {
   "codemirror_mode": {
    "name": "ipython",
    "version": 3
   },
   "file_extension": ".py",
   "mimetype": "text/x-python",
   "name": "python",
   "nbconvert_exporter": "python",
   "pygments_lexer": "ipython3",
   "version": "3.6.9"
  }
 },
 "nbformat": 4,
 "nbformat_minor": 4
}
